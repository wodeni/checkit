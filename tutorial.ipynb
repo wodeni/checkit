{
 "cells": [
  {
   "cell_type": "markdown",
   "metadata": {
    "editable": false
   },
   "source": [
    "# CheckIt Tutorial\n",
    "\n",
    "Use this notebook to quickly write your first randomized exercise.\n",
    "\n",
    "You can refer to a\n",
    "[read-only copy of the original tutorial](https://cocalc.com/share/9b7553d2ecfe356945710e8d076db237f28dec50/checkit-public/tutorial.ipynb?viewer=share)\n",
    "as needed while editing (in case you delete the example)."
   ]
  },
  {
   "cell_type": "markdown",
   "metadata": {
    "editable": false
   },
   "source": [
    "## First, write a generator\n",
    "\n",
    "Edit the below Code cell to create a\n",
    "function to generate the random data used in your exercise.\n",
    "\n",
    "Use [Ctrl]+[Enter] to see sample output used for your exercise."
   ]
  },
  {
   "cell_type": "code",
   "execution_count": 1,
   "metadata": {},
   "outputs": [
    {
     "name": "stdout",
     "output_type": "stream",
     "text": [
      "{'equations': [-9*x + 9*y == 8, 9*x - 8*y == -9], 'slopes': [1, 9/8], 'yints': [8/9, 9/8], 'version': 'slope'}\n"
     ]
    }
   ],
   "source": [
    "load(\"main.sage\")\n",
    "\n",
    "def generator():\n",
    "    # define any variables you'll use\n",
    "    x,y = var(\"x y\")\n",
    "\n",
    "    # use functions like `choice` and `randrange` to make random choices\n",
    "    A = choice([-1,1])*randrange(1,10)\n",
    "    B = choice([-1,1])*randrange(1,10)\n",
    "    C = choice([-1,1])*randrange(1,10)\n",
    "\n",
    "    # Ask for slope or y-intercept?\n",
    "    version = choice(['slope','yint'])\n",
    "\n",
    "    #Randomly use standard form or silly form equations\n",
    "    if choice([True,False]):\n",
    "        equations = [\n",
    "            (A*x+B*y==C),\n",
    "            (B*x-C*y==A),\n",
    "        ] # standard form\n",
    "    else:\n",
    "        equations = [\n",
    "            [y, \"\\\\times\", B, \"+\", x, \"\\\\times\", A, \"=\", C],\n",
    "            [y, \"\\\\times\", -C, \"+\", x, \"\\\\times\", B, \"=\", A]\n",
    "        ] # silly form -- must construct LaTeX by hand\n",
    "\n",
    "    # build the objects you need\n",
    "    return {\n",
    "        \"equations\": equations,\n",
    "        \"slopes\": [\n",
    "            -A/B,\n",
    "            B/C,\n",
    "        ],\n",
    "        \"yints\": [\n",
    "            C/B,\n",
    "            -A/C,\n",
    "        ],\n",
    "        \"version\": version,\n",
    "    }\n",
    "\n",
    "# preview example data in this notebook\n",
    "print(generator())\n"
   ]
  },
  {
   "cell_type": "markdown",
   "metadata": {
    "editable": false
   },
   "source": [
    "## Now, write a template\n",
    "\n",
    "Edit the following [PreTeXt exercise](https://pretextbook.org) template to write your exercise's statement and answer.\n",
    "\n",
    "Randomized data from the generator can be accessed using `<xsl:value-of select=\"name\"/>`.\n",
    "\n",
    "Use [Ctrl]+[Enter] to display your randomly generated exercise in a variety of formats, including HTML and LaTeX."
   ]
  },
  {
   "cell_type": "code",
   "execution_count": 2,
   "metadata": {
    "scrolled": true
   },
   "outputs": [
    {
     "ename": "SyntaxError",
     "evalue": "invalid syntax (<ipython-input-2-088d12e11d02>, line 46)",
     "output_type": "error",
     "traceback": [
      "\u001b[0;36m  File \u001b[0;32m\"<ipython-input-2-088d12e11d02>\"\u001b[0;36m, line \u001b[0;32m46\u001b[0m\n\u001b[0;31m    seed=randrange(Integer(1000))\u001b[0m\n\u001b[0m       ^\u001b[0m\n\u001b[0;31mSyntaxError\u001b[0m\u001b[0;31m:\u001b[0m invalid syntax\n"
     ]
    }
   ],
   "source": [
    "template = r\"\"\"\n",
    "<exercise>\n",
    "  <statement>\n",
    "    <p>\n",
    "      Find the\n",
    "      <xsl:choose>\n",
    "        <xsl:when test=\"version='slope'\">\n",
    "          slopes\n",
    "        </xsl:when>\n",
    "        <xsl:otherwise>\n",
    "          y-intercepts\n",
    "        </xsl:otherwise>\n",
    "      </xsl:choose>\n",
    "      for each of the following equations.\n",
    "    </p>\n",
    "    <ul>\n",
    "      <xsl:for-each select=\"equations/*\">\n",
    "        <li><m><xsl:value-of select=\".\"/></m></li>\n",
    "      </xsl:for-each>\n",
    "    </ul>\n",
    "  </statement>\n",
    "  <answer>\n",
    "    <ul>\n",
    "      <xsl:choose>\n",
    "        <xsl:when test=\"version='slope'\">\n",
    "          <xsl:for-each select=\"slopes/*\">\n",
    "            <li><m><xsl:value-of select=\".\"/></m></li>\n",
    "          </xsl:for-each>\n",
    "        </xsl:when>\n",
    "        <xsl:otherwise>\n",
    "          <xsl:for-each select=\"yints/*\">\n",
    "            <li><m><xsl:value-of select=\".\"/></m></li>\n",
    "          </xsl:for-each>\n",
    "        </xsl:otherwise>\n",
    "      </xsl:choose>\n",
    "    </ul>\n",
    "  </answer>\n",
    "</exercise>\n",
    "\"\"\"\n",
    "\n",
    "exercise = Exercise(\n",
    "    title=\"Slopes and Intercepts of Lines\",\n",
    "    slug=\"example\",\n",
    "    generator=generator,\n",
    "    template=template,\n",
    "    seed=randrange(1000)\n",
    ")\n",
    "from IPython.core.display import display, HTML\n",
    "display(HTML(exercise.html()))\n",
    "exercise.preview()\n"
   ]
  },
  {
   "cell_type": "markdown",
   "metadata": {
    "editable": false
   },
   "source": [
    "## Start building your exercise bank!\n",
    "\n",
    "Join us in the #checkit-app channel in the [Mastery Grading Slack workspace](https://bit.ly/join-mastery-grading) to learn\n",
    "how to create exercise banks like those found at <https://checkit.clontz.org>.\n"
   ]
  },
  {
   "cell_type": "code",
   "execution_count": null,
   "metadata": {},
   "outputs": [],
   "source": []
  }
 ],
 "metadata": {
  "kernelspec": {
   "display_name": "SageMath 9.1",
   "language": "sage",
   "name": "sagemath"
  },
  "language_info": {
   "codemirror_mode": {
    "name": "ipython",
    "version": 3
   },
   "file_extension": ".py",
   "mimetype": "text/x-python",
   "name": "python",
   "nbconvert_exporter": "python",
   "pygments_lexer": "ipython3",
   "version": "3.7.3"
  }
 },
 "nbformat": 4,
 "nbformat_minor": 4
}
